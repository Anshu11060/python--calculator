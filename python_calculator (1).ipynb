{
 "cells": [
  {
   "cell_type": "code",
   "execution_count": 3,
   "id": "dc0e5e36-80fa-43cd-b1ad-9dec6c1221de",
   "metadata": {},
   "outputs": [
    {
     "name": "stdout",
     "output_type": "stream",
     "text": [
      "------------------CALCULATOR----------------------------\n",
      "\n",
      "1. add \n",
      " 2. sub \n",
      "3. mul \n",
      " 4. div \n",
      "5. avg   \n",
      "6. exit:\n"
     ]
    },
    {
     "name": "stdin",
     "output_type": "stream",
     "text": [
      "enter your choice 1\n",
      "enter a no. 2\n",
      "enter a no. 1\n"
     ]
    },
    {
     "name": "stdout",
     "output_type": "stream",
     "text": [
      "result: 3\n",
      "------------------CALCULATOR----------------------------\n",
      "\n",
      "1. add \n",
      " 2. sub \n",
      "3. mul \n",
      " 4. div \n",
      "5. avg   \n",
      "6. exit:\n"
     ]
    },
    {
     "name": "stdin",
     "output_type": "stream",
     "text": [
      "enter your choice 2\n",
      "enter a no. 20\n",
      "enter a no. 10\n"
     ]
    },
    {
     "name": "stdout",
     "output_type": "stream",
     "text": [
      "result: 10\n",
      "------------------CALCULATOR----------------------------\n",
      "\n",
      "1. add \n",
      " 2. sub \n",
      "3. mul \n",
      " 4. div \n",
      "5. avg   \n",
      "6. exit:\n"
     ]
    },
    {
     "name": "stdin",
     "output_type": "stream",
     "text": [
      "enter your choice 3\n",
      "enter a no. 10\n",
      "enter a no. 20\n"
     ]
    },
    {
     "name": "stdout",
     "output_type": "stream",
     "text": [
      "result: 200\n",
      "------------------CALCULATOR----------------------------\n",
      "\n",
      "1. add \n",
      " 2. sub \n",
      "3. mul \n",
      " 4. div \n",
      "5. avg   \n",
      "6. exit:\n"
     ]
    },
    {
     "name": "stdin",
     "output_type": "stream",
     "text": [
      "enter your choice 4\n",
      "enter a no. 20\n",
      "enter a no. 10\n"
     ]
    },
    {
     "name": "stdout",
     "output_type": "stream",
     "text": [
      "result: 2.0\n",
      "------------------CALCULATOR----------------------------\n",
      "\n",
      "1. add \n",
      " 2. sub \n",
      "3. mul \n",
      " 4. div \n",
      "5. avg   \n",
      "6. exit:\n"
     ]
    },
    {
     "name": "stdin",
     "output_type": "stream",
     "text": [
      "enter your choice 5\n",
      "enter a no. 30\n",
      "enter a no. 20\n"
     ]
    },
    {
     "name": "stdout",
     "output_type": "stream",
     "text": [
      "result: 25.0\n",
      "------------------CALCULATOR----------------------------\n",
      "\n",
      "1. add \n",
      " 2. sub \n",
      "3. mul \n",
      " 4. div \n",
      "5. avg   \n",
      "6. exit:\n"
     ]
    },
    {
     "name": "stdin",
     "output_type": "stream",
     "text": [
      "enter your choice 6\n"
     ]
    },
    {
     "name": "stdout",
     "output_type": "stream",
     "text": [
      "EXCITING ------ GOODBYE\n"
     ]
    }
   ],
   "source": [
    "def sum(n1,n2):\n",
    "    return n1+n2\n",
    "def sub(n1,n2):\n",
    "     return n1-n2\n",
    "\n",
    "def mul(n1,n2):\n",
    "     return n1*n2\n",
    "\n",
    "def division(n1,n2):\n",
    "     return n1/n2\n",
    "\n",
    "def average(n1,n2):\n",
    "    return (n1+n2)/2\n",
    "    \n",
    "    \n",
    "\n",
    "while True:\n",
    "    print(\"------------------CALCULATOR----------------------------\")\n",
    "    print(\"\\n1. add \\n 2. sub \\n3. mul \\n 4. div \\n5. avg   \\n6. exit:\")\n",
    "    choice = input(\"enter your choice\")\n",
    "\n",
    "    if choice == \"6\":\n",
    "        print(\"EXCITING ------ GOODBYE\")                    ##TO EXIT THE CALCULATOR\n",
    "        break\n",
    "    \n",
    "    n1= int(input(\"enter a no.\"))\n",
    "    n2= int(input(\"enter a no.\"))\n",
    "\n",
    "    if choice == \"1\":\n",
    "        print(\"result:\", sum(n1,n2))\n",
    "    elif choice == \"2\":\n",
    "        print(\"result:\",sub(n1,n2))\n",
    "    elif choice == \"3\":\n",
    "       print(\"result:\", mul(n1,n2))\n",
    "    elif choice == \"4\":\n",
    "        print(\"result:\",division(n1,n2))\n",
    "    elif  choice == \"5\":\n",
    "        print(\"result:\",average(n1,n2))\n",
    "\n",
    "    else:\n",
    "      print(\"invalid choice\")\n",
    "\n"
   ]
  },
  {
   "cell_type": "code",
   "execution_count": null,
   "id": "5a83f784-a150-4e3c-915c-d2cab24c9a91",
   "metadata": {},
   "outputs": [],
   "source": []
  }
 ],
 "metadata": {
  "kernelspec": {
   "display_name": "Python 3 (ipykernel)",
   "language": "python",
   "name": "python3"
  },
  "language_info": {
   "codemirror_mode": {
    "name": "ipython",
    "version": 3
   },
   "file_extension": ".py",
   "mimetype": "text/x-python",
   "name": "python",
   "nbconvert_exporter": "python",
   "pygments_lexer": "ipython3",
   "version": "3.12.7"
  }
 },
 "nbformat": 4,
 "nbformat_minor": 5
}
